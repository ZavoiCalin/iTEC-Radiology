{
  "nbformat": 4,
  "nbformat_minor": 0,
  "metadata": {
    "colab": {
      "provenance": []
    },
    "kernelspec": {
      "name": "python3",
      "display_name": "Python 3"
    },
    "language_info": {
      "name": "python"
    }
  },
  "cells": [
    {
      "cell_type": "code",
      "execution_count": null,
      "metadata": {
        "id": "HuE1il38blqo"
      },
      "outputs": [],
      "source": [
        "!pip install -q gdown\n",
        "import gdown\n",
        "import re\n",
        "import cv2\n",
        "import numpy as np\n",
        "import matplotlib.pyplot as plt\n"
      ]
    },
    {
      "cell_type": "code",
      "source": [
        "# Install necessary libraries\n",
        "!pip install -q google-api-python-client google-auth-httplib2 google-auth-oauthlib\n",
        "\n",
        "import io\n",
        "import re\n",
        "import cv2\n",
        "import numpy as np\n",
        "import matplotlib.pyplot as plt\n",
        "from PIL import Image\n",
        "from google.colab import auth\n",
        "from googleapiclient.discovery import build\n",
        "from googleapiclient.http import MediaIoBaseDownload"
      ],
      "metadata": {
        "id": "rvwMTl8nlBtm"
      },
      "execution_count": null,
      "outputs": []
    },
    {
      "cell_type": "code",
      "source": [
        "!pip install -q gdown\n",
        "!pip install -q google-api-python-client google-auth-httplib2 google-auth-oauthlib\n",
        "import os\n",
        "import gdown\n",
        "from google.oauth2 import service_account\n",
        "from googleapiclient.discovery import build\n",
        "\n",
        "\n",
        "# Authenticate and create the Drive API client\n",
        "auth.authenticate_user()\n",
        "drive_service = build('drive', 'v3')\n"
      ],
      "metadata": {
        "id": "bPfgxEJOhhcJ"
      },
      "execution_count": null,
      "outputs": []
    },
    {
      "cell_type": "code",
      "source": [
        "import re\n",
        "\n",
        "# Function to extract folder ID from the Google Drive folder URL\n",
        "def extract_folder_id(drive_url):\n",
        "    match = re.search(r'/folders/([a-zA-Z0-9_-]+)', drive_url)\n",
        "    return match.group(1) if match else None\n",
        "\n",
        "# Replace with your actual Google Drive folder URL\n",
        "drive_link = 'https://drive.google.com/drive/folders/1a53SSsUor0_cVv-_vRo0zp5kBCiU2rqQ?usp=sharing'\n",
        "\n",
        "# Extract folder ID from the link\n",
        "folder_id = extract_folder_id(drive_link)\n",
        "print(f\"Folder ID: {folder_id}\")\n",
        "\n"
      ],
      "metadata": {
        "colab": {
          "base_uri": "https://localhost:8080/"
        },
        "id": "hhxtawEBdF0H",
        "outputId": "d3104191-643a-4978-aeb3-7bdc6f871468"
      },
      "execution_count": null,
      "outputs": [
        {
          "output_type": "stream",
          "name": "stdout",
          "text": [
            "Folder ID: 1a53SSsUor0_cVv-_vRo0zp5kBCiU2rqQ\n"
          ]
        }
      ]
    },
    {
      "cell_type": "code",
      "source": [
        "# Function to list image files in the folder\n",
        "def list_images_in_folder(folder_id):\n",
        "    query = f\"'{folder_id}' in parents\"\n",
        "    results = drive_service.files().list(q=query).execute()\n",
        "    items = results.get('files', [])\n",
        "    return [item['id'] for item in items if item['mimeType'].startswith('image/')]  # Filter only images\n",
        "\n",
        "# Get list of image file IDs\n",
        "image_ids = list_images_in_folder(folder_id)\n",
        "print(f\"Found {len(image_ids)} images.\")\n"
      ],
      "metadata": {
        "colab": {
          "base_uri": "https://localhost:8080/"
        },
        "id": "e19z-WzfiCrg",
        "outputId": "bb276dd0-58fe-4bbd-da42-912612d20e8c"
      },
      "execution_count": null,
      "outputs": [
        {
          "output_type": "stream",
          "name": "stdout",
          "text": [
            "Found 0 images.\n"
          ]
        }
      ]
    },
    {
      "cell_type": "code",
      "source": [
        "import io\n",
        "import cv2\n",
        "import numpy as np\n",
        "from googleapiclient.http import MediaIoBaseDownload\n",
        "from PIL import Image\n",
        "\n",
        "# Function to download the image from Google Drive into memory\n",
        "def download_image_in_memory(image_id):\n",
        "    request = drive_service.files().get_media(fileId=image_id)\n",
        "    fh = io.BytesIO()\n",
        "    downloader = MediaIoBaseDownload(fh, request)\n",
        "    done = False\n",
        "    while done is False:\n",
        "        status, done = downloader.next_chunk()\n",
        "    fh.seek(0)\n",
        "    return Image.open(fh)  # Return as PIL image for easier manipulation\n"
      ],
      "metadata": {
        "id": "UN2KK9IOiEp6"
      },
      "execution_count": null,
      "outputs": []
    },
    {
      "cell_type": "code",
      "source": [
        "# Function to segment cracks in images using OpenCV\n",
        "def segment_cracks(img, min_crack_length=20):\n",
        "    equalized = cv2.equalizeHist(img)\n",
        "    blurred = cv2.GaussianBlur(equalized, (5, 5), 0)\n",
        "    edges = cv2.Canny(blurred, 30, 150)\n",
        "    kernel = np.ones((2, 2), np.uint8)\n",
        "    morphed = cv2.morphologyEx(edges, cv2.MORPH_CLOSE, kernel, iterations=1)\n",
        "\n",
        "    contours, _ = cv2.findContours(morphed, cv2.RETR_EXTERNAL, cv2.CHAIN_APPROX_SIMPLE)\n",
        "\n",
        "    mask = np.zeros_like(img)\n",
        "    crack_id = 1\n",
        "    for cnt in contours:\n",
        "        if cv2.arcLength(cnt, True) > min_crack_length:\n",
        "            cv2.drawContours(mask, [cnt], -1, crack_id, -1)\n",
        "            crack_id += 1\n",
        "\n",
        "    return mask, morphed, contours\n",
        "\n",
        "# Process each image from the Google Drive folder (in-memory)\n",
        "for image_id in image_ids:\n",
        "    pil_img = download_image_in_memory(image_id)  # Download the image as a PIL object\n",
        "    img = np.array(pil_img.convert(\"L\"))  # Convert PIL image to grayscale OpenCV format\n",
        "\n",
        "    # Run segmentation on the image\n",
        "    seg_mask, edge_img, contours = segment_cracks(img)\n",
        "\n",
        "    # Create a color overlay for visualization\n",
        "    color_overlay = cv2.cvtColor(img, cv2.COLOR_GRAY2BGR)\n",
        "    unique_cracks = np.unique(seg_mask)\n",
        "    colors = [tuple(np.random.randint(0, 255, 3).tolist()) for _ in unique_cracks]\n",
        "\n",
        "    for cid in unique_cracks:\n",
        "        if cid == 0: continue\n",
        "        color_overlay[seg_mask == cid] = colors[cid % len(colors)]\n",
        "\n",
        "    # Plot results\n",
        "    plt.figure(figsize=(12, 6))\n",
        "    plt.subplot(1, 3, 1), plt.imshow(img, cmap='gray'), plt.title('Original X-ray')\n",
        "    plt.subplot(1, 3, 2), plt.imshow(edge_img, cmap='gray'), plt.title('Edge Detection')\n",
        "    plt.subplot(1, 3, 3), plt.imshow(color_overlay), plt.title(f'Segmented Cracks ({len(unique_cracks)-1} found)')\n",
        "    plt.tight_layout()\n",
        "    plt.show()"
      ],
      "metadata": {
        "id": "czh-jM5wAvXl"
      },
      "execution_count": null,
      "outputs": []
    }
  ]
}